{
 "cells": [
  {
   "cell_type": "code",
   "execution_count": 10,
   "id": "7cb86c56",
   "metadata": {
    "ExecuteTime": {
     "end_time": "2022-03-29T01:26:17.399222Z",
     "start_time": "2022-03-29T01:26:17.394487Z"
    }
   },
   "outputs": [],
   "source": [
    "from typing import Dict, Tuple, List, Any\n",
    "import jax\n",
    "import jax.numpy as jnp\n",
    "import flax.linen as nn\n",
    "import flax\n",
    "# import torch\n",
    "# import torch.nn as nn\n",
    "import math"
   ]
  },
  {
   "cell_type": "code",
   "execution_count": 16,
   "id": "3c0aca59",
   "metadata": {
    "ExecuteTime": {
     "end_time": "2022-03-29T01:31:05.608507Z",
     "start_time": "2022-03-29T01:31:05.600597Z"
    }
   },
   "outputs": [],
   "source": [
    "class Model(nn.Module):\n",
    "    def setup(self):\n",
    "        self.linear = nn.Dense(64)\n",
    "        self.layernorm = nn.LayerNorm()\n",
    "        \n",
    "    @nn.compact\n",
    "    def __call__(self, x):\n",
    "        x = self.linear(x)\n",
    "        x = self.layernorm(x)\n",
    "        return x"
   ]
  },
  {
   "cell_type": "code",
   "execution_count": 20,
   "id": "b084b182",
   "metadata": {
    "ExecuteTime": {
     "end_time": "2022-03-29T01:31:58.829183Z",
     "start_time": "2022-03-29T01:31:58.826095Z"
    }
   },
   "outputs": [
    {
     "name": "stdout",
     "output_type": "stream",
     "text": [
      "initialized parameter shapes:\n",
      " {'params': {'layernorm': {'bias': (64,), 'scale': (64,)}, 'linear': {'bias': (64,), 'kernel': (128, 64)}}}\n",
      "output shape:\n",
      " (8, 64)\n"
     ]
    }
   ],
   "source": [
    "model = Model()\n",
    "\n",
    "N = 8\n",
    "D = 128\n",
    "\n",
    "rnd_key = jax.random.PRNGKey(42)\n",
    "x1 = jax.random.normal(rnd_key, shape=(N,D))\n",
    "\n",
    "params = model.init(rnd_key, x1)\n",
    "y = model.apply(params, x1)\n",
    "print('initialized parameter shapes:\\n', jax.tree_map(jnp.shape, flax.core.unfreeze(params)))\n",
    "print('output shape:\\n', y.shape)"
   ]
  },
  {
   "cell_type": "code",
   "execution_count": 39,
   "id": "7f77da8f",
   "metadata": {
    "ExecuteTime": {
     "end_time": "2022-03-29T02:29:43.489203Z",
     "start_time": "2022-03-29T02:29:43.227748Z"
    }
   },
   "outputs": [],
   "source": [
    "x = jax.random.normal(rnd_key, shape=(5, 17))\n",
    "a,b = jnp.array_split(x, 2, axis=-1)"
   ]
  },
  {
   "cell_type": "code",
   "execution_count": 40,
   "id": "2ff00c7f",
   "metadata": {
    "ExecuteTime": {
     "end_time": "2022-03-29T02:29:43.861466Z",
     "start_time": "2022-03-29T02:29:43.857280Z"
    }
   },
   "outputs": [
    {
     "data": {
      "text/plain": [
       "(5, 9)"
      ]
     },
     "execution_count": 40,
     "metadata": {},
     "output_type": "execute_result"
    }
   ],
   "source": [
    "a.shape"
   ]
  },
  {
   "cell_type": "code",
   "execution_count": 41,
   "id": "987d8427",
   "metadata": {
    "ExecuteTime": {
     "end_time": "2022-03-29T02:29:44.266734Z",
     "start_time": "2022-03-29T02:29:44.262635Z"
    }
   },
   "outputs": [
    {
     "data": {
      "text/plain": [
       "(5, 8)"
      ]
     },
     "execution_count": 41,
     "metadata": {},
     "output_type": "execute_result"
    }
   ],
   "source": [
    "b.shape"
   ]
  },
  {
   "cell_type": "code",
   "execution_count": 44,
   "id": "7fc3824f",
   "metadata": {
    "ExecuteTime": {
     "end_time": "2022-03-29T02:29:58.582221Z",
     "start_time": "2022-03-29T02:29:58.550216Z"
    }
   },
   "outputs": [],
   "source": [
    "c = jnp.einsum(\"ng,nh->gh\", a, b)"
   ]
  },
  {
   "cell_type": "code",
   "execution_count": 45,
   "id": "93d937fc",
   "metadata": {
    "ExecuteTime": {
     "end_time": "2022-03-29T02:29:58.983132Z",
     "start_time": "2022-03-29T02:29:58.978472Z"
    }
   },
   "outputs": [
    {
     "data": {
      "text/plain": [
       "(9, 8)"
      ]
     },
     "execution_count": 45,
     "metadata": {},
     "output_type": "execute_result"
    }
   ],
   "source": [
    "c.shape"
   ]
  },
  {
   "cell_type": "code",
   "execution_count": 51,
   "id": "4705b475",
   "metadata": {
    "ExecuteTime": {
     "end_time": "2022-03-29T02:32:03.543287Z",
     "start_time": "2022-03-29T02:32:03.406130Z"
    }
   },
   "outputs": [
    {
     "data": {
      "text/plain": [
       "[DeviceArray([[2.8488002 , 2.7218099 , 2.0955062 ],\n",
       "              [4.0057507 , 1.7198598 , 0.49998915],\n",
       "              [2.44787   , 1.9903433 , 0.9540967 ],\n",
       "              [2.2788448 , 1.2575146 , 0.20737867],\n",
       "              [2.8847215 , 1.7629296 , 1.4312001 ],\n",
       "              [2.188009  , 2.0436435 , 1.9311047 ],\n",
       "              [4.0429177 , 1.6797887 , 0.5984382 ],\n",
       "              [2.5068424 , 2.1373606 , 2.1111934 ],\n",
       "              [2.5799189 , 1.8154304 , 1.7440134 ]], dtype=float32),\n",
       " DeviceArray([[5, 1, 4],\n",
       "              [2, 0, 4],\n",
       "              [4, 6, 5],\n",
       "              [0, 2, 4],\n",
       "              [7, 2, 0],\n",
       "              [2, 0, 3],\n",
       "              [7, 5, 2],\n",
       "              [1, 7, 2],\n",
       "              [1, 3, 5]], dtype=int32)]"
      ]
     },
     "execution_count": 51,
     "metadata": {},
     "output_type": "execute_result"
    }
   ],
   "source": [
    "# jax.lax.top_k(c)\n",
    "jax.lax.top_k(c, 3)"
   ]
  },
  {
   "cell_type": "code",
   "execution_count": 53,
   "id": "bdcb5427",
   "metadata": {
    "ExecuteTime": {
     "end_time": "2022-03-29T02:47:33.799358Z",
     "start_time": "2022-03-29T02:47:33.791730Z"
    }
   },
   "outputs": [
    {
     "data": {
      "text/plain": [
       "(9, 8)"
      ]
     },
     "execution_count": 53,
     "metadata": {},
     "output_type": "execute_result"
    }
   ],
   "source": [
    "out = nn.softmax(c, axis=1)\n",
    "out.shape"
   ]
  },
  {
   "cell_type": "code",
   "execution_count": 54,
   "id": "b2085819",
   "metadata": {
    "ExecuteTime": {
     "end_time": "2022-03-29T02:47:41.166316Z",
     "start_time": "2022-03-29T02:47:41.103575Z"
    }
   },
   "outputs": [
    {
     "data": {
      "text/plain": [
       "DeviceArray([1.0000001 , 0.99999994, 1.        , 0.99999994, 1.        ,\n",
       "             1.        , 1.        , 1.0000002 , 1.        ],            dtype=float32)"
      ]
     },
     "execution_count": 54,
     "metadata": {},
     "output_type": "execute_result"
    }
   ],
   "source": [
    "out.sum(1)"
   ]
  },
  {
   "cell_type": "code",
   "execution_count": 59,
   "id": "7d3ecb8e",
   "metadata": {
    "ExecuteTime": {
     "end_time": "2022-03-29T03:59:39.780993Z",
     "start_time": "2022-03-29T03:59:39.543216Z"
    }
   },
   "outputs": [
    {
     "data": {
      "text/plain": [
       "DeviceArray([[ 0.01799773,  0.3240893 ,  0.16049889, -0.39378947,\n",
       "               0.03847735, -0.05789944,  0.14026228, -0.01109238],\n",
       "             [-0.31371105, -0.0454727 , -0.28461683,  0.09464972,\n",
       "              -0.2718889 , -0.34081125, -0.06649639,  0.07113177],\n",
       "             [-0.21927719, -0.0969271 , -0.31637388, -0.11878338,\n",
       "               0.26330873, -0.03214517, -0.00101734,  0.05531672],\n",
       "             [ 0.09329666, -0.315701  ,  0.23672032, -0.39212704,\n",
       "               0.6521596 ,  0.00694316, -0.10352549, -0.07599135],\n",
       "             [ 0.3715672 ,  0.09549747,  0.52732676, -0.22619566,\n",
       "              -0.32916254,  0.44663152,  0.26371616, -0.08919866],\n",
       "             [ 0.26806706, -0.08028515,  0.1099793 ,  0.15923974,\n",
       "               0.24198954, -0.14503574,  0.22950482, -0.01157813],\n",
       "             [ 0.39442417,  0.6945726 , -0.07789575,  0.12051268,\n",
       "               0.09601855,  0.739609  , -0.20942426, -0.20421992],\n",
       "             [ 0.22844616,  0.08924569,  0.24862719,  0.62727344,\n",
       "               0.44225308,  0.13708203,  0.10954238,  0.29361042],\n",
       "             [-0.20339465, -0.3297019 , -0.0045889 ,  0.18901464,\n",
       "               0.20579201,  0.66143006,  0.03580725,  0.13228706]],            dtype=float32)"
      ]
     },
     "execution_count": 59,
     "metadata": {},
     "output_type": "execute_result"
    }
   ],
   "source": [
    "variance_init = jax.nn.initializers.variance_scaling(scale=1, mode=\"fan_in\", distribution=\"normal\")\n",
    "variance_init(rnd_key, (9,8))"
   ]
  },
  {
   "cell_type": "code",
   "execution_count": 63,
   "id": "40e14971",
   "metadata": {
    "ExecuteTime": {
     "end_time": "2022-03-29T04:01:44.871102Z",
     "start_time": "2022-03-29T04:01:44.866893Z"
    }
   },
   "outputs": [],
   "source": [
    "layer = nn.Embed(4, 8, embedding_init=variance_init)"
   ]
  },
  {
   "cell_type": "code",
   "execution_count": 64,
   "id": "b8c0a8a1",
   "metadata": {
    "ExecuteTime": {
     "end_time": "2022-03-29T04:01:45.591085Z",
     "start_time": "2022-03-29T04:01:45.586841Z"
    }
   },
   "outputs": [
    {
     "data": {
      "text/plain": [
       "Embed(\n",
       "    # attributes\n",
       "    num_embeddings = 4\n",
       "    features = 8\n",
       "    dtype = float32\n",
       "    param_dtype = float32\n",
       "    embedding_init = init\n",
       "    embedding = None\n",
       ")"
      ]
     },
     "execution_count": 64,
     "metadata": {},
     "output_type": "execute_result"
    }
   ],
   "source": [
    "layer"
   ]
  },
  {
   "cell_type": "code",
   "execution_count": 62,
   "id": "87ce4d17",
   "metadata": {
    "ExecuteTime": {
     "end_time": "2022-03-29T04:01:12.455578Z",
     "start_time": "2022-03-29T04:01:12.444578Z"
    }
   },
   "outputs": [
    {
     "ename": "TypeError",
     "evalue": "init() missing 1 required positional argument: 'shape'",
     "output_type": "error",
     "traceback": [
      "\u001b[0;31m---------------------------------------------------------------------------\u001b[0m",
      "\u001b[0;31mTypeError\u001b[0m                                 Traceback (most recent call last)",
      "\u001b[0;32m<ipython-input-62-aa31c7386967>\u001b[0m in \u001b[0;36m<module>\u001b[0;34m\u001b[0m\n\u001b[0;32m----> 1\u001b[0;31m \u001b[0mvariance_init\u001b[0m\u001b[0;34m(\u001b[0m\u001b[0mlayer\u001b[0m\u001b[0;34m)\u001b[0m\u001b[0;34m\u001b[0m\u001b[0;34m\u001b[0m\u001b[0m\n\u001b[0m",
      "\u001b[0;31mTypeError\u001b[0m: init() missing 1 required positional argument: 'shape'"
     ]
    }
   ],
   "source": [
    "\n",
    "variance_init(layer)"
   ]
  },
  {
   "cell_type": "code",
   "execution_count": null,
   "id": "665f897b",
   "metadata": {},
   "outputs": [],
   "source": []
  }
 ],
 "metadata": {
  "kernelspec": {
   "display_name": "Python (ssm)",
   "language": "python",
   "name": "ssm"
  },
  "language_info": {
   "codemirror_mode": {
    "name": "ipython",
    "version": 3
   },
   "file_extension": ".py",
   "mimetype": "text/x-python",
   "name": "python",
   "nbconvert_exporter": "python",
   "pygments_lexer": "ipython3",
   "version": "3.9.5"
  },
  "varInspector": {
   "cols": {
    "lenName": 16,
    "lenType": 16,
    "lenVar": 40
   },
   "kernels_config": {
    "python": {
     "delete_cmd_postfix": "",
     "delete_cmd_prefix": "del ",
     "library": "var_list.py",
     "varRefreshCmd": "print(var_dic_list())"
    },
    "r": {
     "delete_cmd_postfix": ") ",
     "delete_cmd_prefix": "rm(",
     "library": "var_list.r",
     "varRefreshCmd": "cat(var_dic_list()) "
    }
   },
   "types_to_exclude": [
    "module",
    "function",
    "builtin_function_or_method",
    "instance",
    "_Feature"
   ],
   "window_display": false
  }
 },
 "nbformat": 4,
 "nbformat_minor": 5
}
