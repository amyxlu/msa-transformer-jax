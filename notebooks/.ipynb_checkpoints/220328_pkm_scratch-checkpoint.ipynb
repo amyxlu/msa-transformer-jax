{
 "cells": [
  {
   "cell_type": "code",
   "execution_count": 10,
   "id": "7cb86c56",
   "metadata": {
    "ExecuteTime": {
     "end_time": "2022-03-29T01:26:17.399222Z",
     "start_time": "2022-03-29T01:26:17.394487Z"
    }
   },
   "outputs": [],
   "source": [
    "from typing import Dict, Tuple, List, Any\n",
    "import jax\n",
    "import jax.numpy as jnp\n",
    "import flax.linen as nn\n",
    "import flax\n",
    "# import torch\n",
    "# import torch.nn as nn\n",
    "import math"
   ]
  },
  {
   "cell_type": "code",
   "execution_count": 16,
   "id": "1ddcd718",
   "metadata": {
    "ExecuteTime": {
     "end_time": "2022-03-29T01:31:05.608507Z",
     "start_time": "2022-03-29T01:31:05.600597Z"
    }
   },
   "outputs": [],
   "source": [
    "class Model(nn.Module):\n",
    "    def setup(self):\n",
    "        self.linear = nn.Dense(64)\n",
    "        self.layernorm = nn.LayerNorm()\n",
    "        \n",
    "    @nn.compact\n",
    "    def __call__(self, x):\n",
    "        x = self.linear(x)\n",
    "        x = self.layernorm(x)\n",
    "        return x"
   ]
  },
  {
   "cell_type": "code",
   "execution_count": 19,
   "id": "03dc57a6",
   "metadata": {
    "ExecuteTime": {
     "end_time": "2022-03-29T01:31:58.801318Z",
     "start_time": "2022-03-29T01:31:58.137657Z"
    }
   },
   "outputs": [],
   "source": [
    "model = Model()\n",
    "\n",
    "N = 8\n",
    "D = 128\n",
    "\n",
    "rnd_key = jax.random.PRNGKey(42)\n",
    "x1 = jax.random.normal(rnd_key, shape=(N,D))\n",
    "\n",
    "params = model.init(rnd_key, x1)\n",
    "y = model.apply(params, x1)"
   ]
  },
  {
   "cell_type": "code",
   "execution_count": 20,
   "id": "740b2a5f",
   "metadata": {
    "ExecuteTime": {
     "end_time": "2022-03-29T01:31:58.829183Z",
     "start_time": "2022-03-29T01:31:58.826095Z"
    }
   },
   "outputs": [
    {
     "name": "stdout",
     "output_type": "stream",
     "text": [
      "initialized parameter shapes:\n",
      " {'params': {'layernorm': {'bias': (64,), 'scale': (64,)}, 'linear': {'bias': (64,), 'kernel': (128, 64)}}}\n",
      "output shape:\n",
      " (8, 64)\n"
     ]
    }
   ],
   "source": [
    "print('initialized parameter shapes:\\n', jax.tree_map(jnp.shape, flax.core.unfreeze(params)))\n",
    "print('output shape:\\n', y.shape)"
   ]
  }
 ],
 "metadata": {
  "kernelspec": {
   "display_name": "Python (ssm)",
   "language": "python",
   "name": "ssm"
  },
  "language_info": {
   "codemirror_mode": {
    "name": "ipython",
    "version": 3
   },
   "file_extension": ".py",
   "mimetype": "text/x-python",
   "name": "python",
   "nbconvert_exporter": "python",
   "pygments_lexer": "ipython3",
   "version": "3.9.5"
  },
  "varInspector": {
   "cols": {
    "lenName": 16,
    "lenType": 16,
    "lenVar": 40
   },
   "kernels_config": {
    "python": {
     "delete_cmd_postfix": "",
     "delete_cmd_prefix": "del ",
     "library": "var_list.py",
     "varRefreshCmd": "print(var_dic_list())"
    },
    "r": {
     "delete_cmd_postfix": ") ",
     "delete_cmd_prefix": "rm(",
     "library": "var_list.r",
     "varRefreshCmd": "cat(var_dic_list()) "
    }
   },
   "types_to_exclude": [
    "module",
    "function",
    "builtin_function_or_method",
    "instance",
    "_Feature"
   ],
   "window_display": false
  }
 },
 "nbformat": 4,
 "nbformat_minor": 5
}
